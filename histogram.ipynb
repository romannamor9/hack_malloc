{
 "cells": [
  {
   "cell_type": "code",
   "execution_count": 1,
   "metadata": {
    "collapsed": false
   },
   "outputs": [
    {
     "name": "stdout",
     "output_type": "stream",
     "text": [
      "Populating the interactive namespace from numpy and matplotlib\n"
     ]
    }
   ],
   "source": [
    "%pylab inline"
   ]
  },
  {
   "cell_type": "code",
   "execution_count": 2,
   "metadata": {
    "collapsed": true
   },
   "outputs": [],
   "source": [
    "import gzip\n",
    "from collections import defaultdict\n",
    "\n",
    "threads = defaultdict(list)\n",
    "ptrs = {}\n",
    "with gzip.open(\"../../Games/vcmi/build/malloc.log.gz\") as fin:\n",
    "    for line in fin:\n",
    "        parts = line[:-1].split(b\"\\t\")\n",
    "        thread = int(parts[1])\n",
    "        size = int(parts[2])\n",
    "        ptr = parts[3]\n",
    "        if size > -1:\n",
    "            threads[thread].append(size.bit_length())\n",
    "            ptrs[ptr] = size\n",
    "        else:\n",
    "            size = ptrs.get(ptr, 0)\n",
    "            if size > 0:\n",
    "                del ptrs[ptr]\n",
    "            threads[thread].append(32 + size.bit_length())"
   ]
  },
  {
   "cell_type": "code",
   "execution_count": 8,
   "metadata": {
    "collapsed": true
   },
   "outputs": [],
   "source": [
    "items = []\n",
    "for _, t in threads.items():\n",
    "    items.extend(t)"
   ]
  },
  {
   "cell_type": "code",
   "execution_count": 11,
   "metadata": {
    "collapsed": false
   },
   "outputs": [
    {
     "data": {
      "text/plain": [
       "19409405"
      ]
     },
     "execution_count": 11,
     "metadata": {},
     "output_type": "execute_result"
    }
   ],
   "source": [
    "len(items)"
   ]
  },
  {
   "cell_type": "code",
   "execution_count": 13,
   "metadata": {
    "collapsed": true
   },
   "outputs": [],
   "source": [
    "items = array(items)"
   ]
  },
  {
   "cell_type": "code",
   "execution_count": 67,
   "metadata": {
    "collapsed": false
   },
   "outputs": [
    {
     "data": {
      "text/plain": [
       "<matplotlib.text.Annotation at 0x7fc87ed4bb38>"
      ]
     },
     "execution_count": 67,
     "metadata": {},
     "output_type": "execute_result"
    },
    {
     "data": {
      "image/png": "[encoded data removed]",
      "text/plain": [
       "<matplotlib.figure.Figure at 0x7fc87ee2c048>"
      ]
     },
     "metadata": {},
     "output_type": "display_data"
    }
   ],
   "source": [
    "rcParams[\"figure.figsize\"] = (12, 9)\n",
    "xticks(arange(33))\n",
    "xlim(0, 32)\n",
    "freqs, _, _ = hist(items[items < 32], bins=arange(32), normed=True)\n",
    "title(\"vcmi - распределение классов malloc()\", fontsize=20)\n",
    "xlabel(\"Класс\")\n",
    "ylabel(\"Частота\")\n",
    "annotate(\"0.26\", xy=(7.5, 0.25), xytext=(10, 0.26), fontsize=16, va=\"center\", ha=\"center\",\n",
    "         bbox=dict(boxstyle=\"round4\", fc=\"white\"),\n",
    "         arrowprops=dict(edgecolor=\"black\", facecolor=\"white\",\n",
    "                         shrink=0.05, width=4, headwidth=10, connectionstyle=\"arc3\"))"
   ]
  },
  {
   "cell_type": "code",
   "execution_count": 30,
   "metadata": {
    "collapsed": false
   },
   "outputs": [
    {
     "data": {
      "text/plain": [
       "0.26077458552120703"
      ]
     },
     "execution_count": 30,
     "metadata": {},
     "output_type": "execute_result"
    }
   ],
   "source": [
    "freqs[7] / freqs.sum()"
   ]
  }
 ],
 "metadata": {
  "kernelspec": {
   "display_name": "Python 3",
   "language": "python",
   "name": "python3"
  },
  "language_info": {
   "codemirror_mode": {
    "name": "ipython",
    "version": 3
   },
   "file_extension": ".py",
   "mimetype": "text/x-python",
   "name": "python",
   "nbconvert_exporter": "python",
   "pygments_lexer": "ipython3",
   "version": "3.5.2"
  }
 },
 "nbformat": 4,
 "nbformat_minor": 1
}
